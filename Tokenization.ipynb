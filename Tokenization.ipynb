{
 "cells": [
  {
   "cell_type": "code",
   "execution_count": 1,
   "metadata": {},
   "outputs": [],
   "source": [
    "import nltk"
   ]
  },
  {
   "cell_type": "code",
   "execution_count": 2,
   "metadata": {},
   "outputs": [],
   "source": [
    "data = 'It is often used as a weighting factor in searches of information retrieval, \\\n",
    "text mining, and user modeling. The tf–idf value increases proportionally to the number of times a word \\\n",
    "appears in the document and is offset by the number of documents in the corpus that contain the word, \\\n",
    "which helps to adjust for the fact that some words appear more frequently in general.'"
   ]
  },
  {
   "cell_type": "code",
   "execution_count": 3,
   "metadata": {},
   "outputs": [
    {
     "data": {
      "text/plain": [
       "str"
      ]
     },
     "execution_count": 3,
     "metadata": {},
     "output_type": "execute_result"
    }
   ],
   "source": [
    "type(data)"
   ]
  },
  {
   "cell_type": "code",
   "execution_count": 4,
   "metadata": {},
   "outputs": [],
   "source": [
    "from nltk.tokenize import word_tokenize"
   ]
  },
  {
   "cell_type": "code",
   "execution_count": 5,
   "metadata": {
    "scrolled": true
   },
   "outputs": [
    {
     "data": {
      "text/plain": [
       "['It',\n",
       " 'is',\n",
       " 'often',\n",
       " 'used',\n",
       " 'as',\n",
       " 'a',\n",
       " 'weighting',\n",
       " 'factor',\n",
       " 'in',\n",
       " 'searches',\n",
       " 'of',\n",
       " 'information',\n",
       " 'retrieval',\n",
       " ',',\n",
       " 'text',\n",
       " 'mining',\n",
       " ',',\n",
       " 'and',\n",
       " 'user',\n",
       " 'modeling',\n",
       " '.',\n",
       " 'The',\n",
       " 'tf–idf',\n",
       " 'value',\n",
       " 'increases',\n",
       " 'proportionally',\n",
       " 'to',\n",
       " 'the',\n",
       " 'number',\n",
       " 'of',\n",
       " 'times',\n",
       " 'a',\n",
       " 'word',\n",
       " 'appears',\n",
       " 'in',\n",
       " 'the',\n",
       " 'document',\n",
       " 'and',\n",
       " 'is',\n",
       " 'offset',\n",
       " 'by',\n",
       " 'the',\n",
       " 'number',\n",
       " 'of',\n",
       " 'documents',\n",
       " 'in',\n",
       " 'the',\n",
       " 'corpus',\n",
       " 'that',\n",
       " 'contain',\n",
       " 'the',\n",
       " 'word',\n",
       " ',',\n",
       " 'which',\n",
       " 'helps',\n",
       " 'to',\n",
       " 'adjust',\n",
       " 'for',\n",
       " 'the',\n",
       " 'fact',\n",
       " 'that',\n",
       " 'some',\n",
       " 'words',\n",
       " 'appear',\n",
       " 'more',\n",
       " 'frequently',\n",
       " 'in',\n",
       " 'general',\n",
       " '.']"
      ]
     },
     "execution_count": 5,
     "metadata": {},
     "output_type": "execute_result"
    }
   ],
   "source": [
    "data_tokens = word_tokenize(data)\n",
    "data_tokens"
   ]
  },
  {
   "cell_type": "code",
   "execution_count": 6,
   "metadata": {},
   "outputs": [
    {
     "data": {
      "text/plain": [
       "69"
      ]
     },
     "execution_count": 6,
     "metadata": {},
     "output_type": "execute_result"
    }
   ],
   "source": [
    "len(data_tokens)"
   ]
  },
  {
   "cell_type": "code",
   "execution_count": 7,
   "metadata": {},
   "outputs": [],
   "source": [
    "from nltk.probability import FreqDist\n",
    "fdist = FreqDist()"
   ]
  },
  {
   "cell_type": "code",
   "execution_count": 8,
   "metadata": {},
   "outputs": [
    {
     "data": {
      "text/plain": [
       "FreqDist({'the': 7, 'in': 4, 'of': 3, ',': 3, 'is': 2, 'a': 2, 'and': 2, '.': 2, 'to': 2, 'number': 2, ...})"
      ]
     },
     "execution_count": 8,
     "metadata": {},
     "output_type": "execute_result"
    }
   ],
   "source": [
    "for word in data_tokens:\n",
    "    fdist[word.lower()]+=1\n",
    "fdist"
   ]
  },
  {
   "cell_type": "code",
   "execution_count": 9,
   "metadata": {},
   "outputs": [
    {
     "data": {
      "text/plain": [
       "[('the', 7),\n",
       " ('in', 4),\n",
       " ('of', 3),\n",
       " (',', 3),\n",
       " ('is', 2),\n",
       " ('a', 2),\n",
       " ('and', 2),\n",
       " ('.', 2),\n",
       " ('to', 2),\n",
       " ('number', 2),\n",
       " ('word', 2),\n",
       " ('that', 2),\n",
       " ('it', 1),\n",
       " ('often', 1),\n",
       " ('used', 1),\n",
       " ('as', 1),\n",
       " ('weighting', 1),\n",
       " ('factor', 1),\n",
       " ('searches', 1),\n",
       " ('information', 1)]"
      ]
     },
     "execution_count": 9,
     "metadata": {},
     "output_type": "execute_result"
    }
   ],
   "source": [
    "fdist.most_common(20)"
   ]
  },
  {
   "cell_type": "code",
   "execution_count": 10,
   "metadata": {},
   "outputs": [],
   "source": [
    "from nltk.util import bigrams, trigrams, ngrams"
   ]
  },
  {
   "cell_type": "code",
   "execution_count": 11,
   "metadata": {
    "scrolled": true
   },
   "outputs": [
    {
     "data": {
      "text/plain": [
       "[('It', 'is'),\n",
       " ('is', 'often'),\n",
       " ('often', 'used'),\n",
       " ('used', 'as'),\n",
       " ('as', 'a'),\n",
       " ('a', 'weighting'),\n",
       " ('weighting', 'factor'),\n",
       " ('factor', 'in'),\n",
       " ('in', 'searches'),\n",
       " ('searches', 'of'),\n",
       " ('of', 'information'),\n",
       " ('information', 'retrieval'),\n",
       " ('retrieval', ','),\n",
       " (',', 'text'),\n",
       " ('text', 'mining'),\n",
       " ('mining', ','),\n",
       " (',', 'and'),\n",
       " ('and', 'user'),\n",
       " ('user', 'modeling'),\n",
       " ('modeling', '.'),\n",
       " ('.', 'The'),\n",
       " ('The', 'tf–idf'),\n",
       " ('tf–idf', 'value'),\n",
       " ('value', 'increases'),\n",
       " ('increases', 'proportionally'),\n",
       " ('proportionally', 'to'),\n",
       " ('to', 'the'),\n",
       " ('the', 'number'),\n",
       " ('number', 'of'),\n",
       " ('of', 'times'),\n",
       " ('times', 'a'),\n",
       " ('a', 'word'),\n",
       " ('word', 'appears'),\n",
       " ('appears', 'in'),\n",
       " ('in', 'the'),\n",
       " ('the', 'document'),\n",
       " ('document', 'and'),\n",
       " ('and', 'is'),\n",
       " ('is', 'offset'),\n",
       " ('offset', 'by'),\n",
       " ('by', 'the'),\n",
       " ('the', 'number'),\n",
       " ('number', 'of'),\n",
       " ('of', 'documents'),\n",
       " ('documents', 'in'),\n",
       " ('in', 'the'),\n",
       " ('the', 'corpus'),\n",
       " ('corpus', 'that'),\n",
       " ('that', 'contain'),\n",
       " ('contain', 'the'),\n",
       " ('the', 'word'),\n",
       " ('word', ','),\n",
       " (',', 'which'),\n",
       " ('which', 'helps'),\n",
       " ('helps', 'to'),\n",
       " ('to', 'adjust'),\n",
       " ('adjust', 'for'),\n",
       " ('for', 'the'),\n",
       " ('the', 'fact'),\n",
       " ('fact', 'that'),\n",
       " ('that', 'some'),\n",
       " ('some', 'words'),\n",
       " ('words', 'appear'),\n",
       " ('appear', 'more'),\n",
       " ('more', 'frequently'),\n",
       " ('frequently', 'in'),\n",
       " ('in', 'general'),\n",
       " ('general', '.')]"
      ]
     },
     "execution_count": 11,
     "metadata": {},
     "output_type": "execute_result"
    }
   ],
   "source": [
    "data_bigrams = list(nltk.bigrams(data_tokens))\n",
    "data_bigrams"
   ]
  },
  {
   "cell_type": "code",
   "execution_count": 12,
   "metadata": {
    "scrolled": true
   },
   "outputs": [
    {
     "data": {
      "text/plain": [
       "[('It', 'is', 'often'),\n",
       " ('is', 'often', 'used'),\n",
       " ('often', 'used', 'as'),\n",
       " ('used', 'as', 'a'),\n",
       " ('as', 'a', 'weighting'),\n",
       " ('a', 'weighting', 'factor'),\n",
       " ('weighting', 'factor', 'in'),\n",
       " ('factor', 'in', 'searches'),\n",
       " ('in', 'searches', 'of'),\n",
       " ('searches', 'of', 'information'),\n",
       " ('of', 'information', 'retrieval'),\n",
       " ('information', 'retrieval', ','),\n",
       " ('retrieval', ',', 'text'),\n",
       " (',', 'text', 'mining'),\n",
       " ('text', 'mining', ','),\n",
       " ('mining', ',', 'and'),\n",
       " (',', 'and', 'user'),\n",
       " ('and', 'user', 'modeling'),\n",
       " ('user', 'modeling', '.'),\n",
       " ('modeling', '.', 'The'),\n",
       " ('.', 'The', 'tf–idf'),\n",
       " ('The', 'tf–idf', 'value'),\n",
       " ('tf–idf', 'value', 'increases'),\n",
       " ('value', 'increases', 'proportionally'),\n",
       " ('increases', 'proportionally', 'to'),\n",
       " ('proportionally', 'to', 'the'),\n",
       " ('to', 'the', 'number'),\n",
       " ('the', 'number', 'of'),\n",
       " ('number', 'of', 'times'),\n",
       " ('of', 'times', 'a'),\n",
       " ('times', 'a', 'word'),\n",
       " ('a', 'word', 'appears'),\n",
       " ('word', 'appears', 'in'),\n",
       " ('appears', 'in', 'the'),\n",
       " ('in', 'the', 'document'),\n",
       " ('the', 'document', 'and'),\n",
       " ('document', 'and', 'is'),\n",
       " ('and', 'is', 'offset'),\n",
       " ('is', 'offset', 'by'),\n",
       " ('offset', 'by', 'the'),\n",
       " ('by', 'the', 'number'),\n",
       " ('the', 'number', 'of'),\n",
       " ('number', 'of', 'documents'),\n",
       " ('of', 'documents', 'in'),\n",
       " ('documents', 'in', 'the'),\n",
       " ('in', 'the', 'corpus'),\n",
       " ('the', 'corpus', 'that'),\n",
       " ('corpus', 'that', 'contain'),\n",
       " ('that', 'contain', 'the'),\n",
       " ('contain', 'the', 'word'),\n",
       " ('the', 'word', ','),\n",
       " ('word', ',', 'which'),\n",
       " (',', 'which', 'helps'),\n",
       " ('which', 'helps', 'to'),\n",
       " ('helps', 'to', 'adjust'),\n",
       " ('to', 'adjust', 'for'),\n",
       " ('adjust', 'for', 'the'),\n",
       " ('for', 'the', 'fact'),\n",
       " ('the', 'fact', 'that'),\n",
       " ('fact', 'that', 'some'),\n",
       " ('that', 'some', 'words'),\n",
       " ('some', 'words', 'appear'),\n",
       " ('words', 'appear', 'more'),\n",
       " ('appear', 'more', 'frequently'),\n",
       " ('more', 'frequently', 'in'),\n",
       " ('frequently', 'in', 'general'),\n",
       " ('in', 'general', '.')]"
      ]
     },
     "execution_count": 12,
     "metadata": {},
     "output_type": "execute_result"
    }
   ],
   "source": [
    "data_trigrams = list(nltk.trigrams(data_tokens))\n",
    "data_trigrams"
   ]
  },
  {
   "cell_type": "code",
   "execution_count": 14,
   "metadata": {
    "scrolled": true
   },
   "outputs": [
    {
     "data": {
      "text/plain": [
       "[('It', 'is', 'often', 'used', 'as'),\n",
       " ('is', 'often', 'used', 'as', 'a'),\n",
       " ('often', 'used', 'as', 'a', 'weighting'),\n",
       " ('used', 'as', 'a', 'weighting', 'factor'),\n",
       " ('as', 'a', 'weighting', 'factor', 'in'),\n",
       " ('a', 'weighting', 'factor', 'in', 'searches'),\n",
       " ('weighting', 'factor', 'in', 'searches', 'of'),\n",
       " ('factor', 'in', 'searches', 'of', 'information'),\n",
       " ('in', 'searches', 'of', 'information', 'retrieval'),\n",
       " ('searches', 'of', 'information', 'retrieval', ','),\n",
       " ('of', 'information', 'retrieval', ',', 'text'),\n",
       " ('information', 'retrieval', ',', 'text', 'mining'),\n",
       " ('retrieval', ',', 'text', 'mining', ','),\n",
       " (',', 'text', 'mining', ',', 'and'),\n",
       " ('text', 'mining', ',', 'and', 'user'),\n",
       " ('mining', ',', 'and', 'user', 'modeling'),\n",
       " (',', 'and', 'user', 'modeling', '.'),\n",
       " ('and', 'user', 'modeling', '.', 'The'),\n",
       " ('user', 'modeling', '.', 'The', 'tf–idf'),\n",
       " ('modeling', '.', 'The', 'tf–idf', 'value'),\n",
       " ('.', 'The', 'tf–idf', 'value', 'increases'),\n",
       " ('The', 'tf–idf', 'value', 'increases', 'proportionally'),\n",
       " ('tf–idf', 'value', 'increases', 'proportionally', 'to'),\n",
       " ('value', 'increases', 'proportionally', 'to', 'the'),\n",
       " ('increases', 'proportionally', 'to', 'the', 'number'),\n",
       " ('proportionally', 'to', 'the', 'number', 'of'),\n",
       " ('to', 'the', 'number', 'of', 'times'),\n",
       " ('the', 'number', 'of', 'times', 'a'),\n",
       " ('number', 'of', 'times', 'a', 'word'),\n",
       " ('of', 'times', 'a', 'word', 'appears'),\n",
       " ('times', 'a', 'word', 'appears', 'in'),\n",
       " ('a', 'word', 'appears', 'in', 'the'),\n",
       " ('word', 'appears', 'in', 'the', 'document'),\n",
       " ('appears', 'in', 'the', 'document', 'and'),\n",
       " ('in', 'the', 'document', 'and', 'is'),\n",
       " ('the', 'document', 'and', 'is', 'offset'),\n",
       " ('document', 'and', 'is', 'offset', 'by'),\n",
       " ('and', 'is', 'offset', 'by', 'the'),\n",
       " ('is', 'offset', 'by', 'the', 'number'),\n",
       " ('offset', 'by', 'the', 'number', 'of'),\n",
       " ('by', 'the', 'number', 'of', 'documents'),\n",
       " ('the', 'number', 'of', 'documents', 'in'),\n",
       " ('number', 'of', 'documents', 'in', 'the'),\n",
       " ('of', 'documents', 'in', 'the', 'corpus'),\n",
       " ('documents', 'in', 'the', 'corpus', 'that'),\n",
       " ('in', 'the', 'corpus', 'that', 'contain'),\n",
       " ('the', 'corpus', 'that', 'contain', 'the'),\n",
       " ('corpus', 'that', 'contain', 'the', 'word'),\n",
       " ('that', 'contain', 'the', 'word', ','),\n",
       " ('contain', 'the', 'word', ',', 'which'),\n",
       " ('the', 'word', ',', 'which', 'helps'),\n",
       " ('word', ',', 'which', 'helps', 'to'),\n",
       " (',', 'which', 'helps', 'to', 'adjust'),\n",
       " ('which', 'helps', 'to', 'adjust', 'for'),\n",
       " ('helps', 'to', 'adjust', 'for', 'the'),\n",
       " ('to', 'adjust', 'for', 'the', 'fact'),\n",
       " ('adjust', 'for', 'the', 'fact', 'that'),\n",
       " ('for', 'the', 'fact', 'that', 'some'),\n",
       " ('the', 'fact', 'that', 'some', 'words'),\n",
       " ('fact', 'that', 'some', 'words', 'appear'),\n",
       " ('that', 'some', 'words', 'appear', 'more'),\n",
       " ('some', 'words', 'appear', 'more', 'frequently'),\n",
       " ('words', 'appear', 'more', 'frequently', 'in'),\n",
       " ('appear', 'more', 'frequently', 'in', 'general'),\n",
       " ('more', 'frequently', 'in', 'general', '.')]"
      ]
     },
     "execution_count": 14,
     "metadata": {},
     "output_type": "execute_result"
    }
   ],
   "source": [
    "data_ngrams = list(nltk.ngrams(data_tokens, 5))\n",
    "data_ngrams"
   ]
  },
  {
   "cell_type": "code",
   "execution_count": null,
   "metadata": {},
   "outputs": [],
   "source": []
  }
 ],
 "metadata": {
  "hide_input": false,
  "kernelspec": {
   "display_name": "Python 3",
   "language": "python",
   "name": "python3"
  },
  "language_info": {
   "codemirror_mode": {
    "name": "ipython",
    "version": 3
   },
   "file_extension": ".py",
   "mimetype": "text/x-python",
   "name": "python",
   "nbconvert_exporter": "python",
   "pygments_lexer": "ipython3",
   "version": "3.8.3"
  },
  "toc": {
   "base_numbering": 1,
   "nav_menu": {},
   "number_sections": true,
   "sideBar": true,
   "skip_h1_title": false,
   "title_cell": "Table of Contents",
   "title_sidebar": "Contents",
   "toc_cell": false,
   "toc_position": {},
   "toc_section_display": true,
   "toc_window_display": false
  },
  "varInspector": {
   "cols": {
    "lenName": 16,
    "lenType": 16,
    "lenVar": 40
   },
   "kernels_config": {
    "python": {
     "delete_cmd_postfix": "",
     "delete_cmd_prefix": "del ",
     "library": "var_list.py",
     "varRefreshCmd": "print(var_dic_list())"
    },
    "r": {
     "delete_cmd_postfix": ") ",
     "delete_cmd_prefix": "rm(",
     "library": "var_list.r",
     "varRefreshCmd": "cat(var_dic_list()) "
    }
   },
   "types_to_exclude": [
    "module",
    "function",
    "builtin_function_or_method",
    "instance",
    "_Feature"
   ],
   "window_display": false
  }
 },
 "nbformat": 4,
 "nbformat_minor": 4
}
